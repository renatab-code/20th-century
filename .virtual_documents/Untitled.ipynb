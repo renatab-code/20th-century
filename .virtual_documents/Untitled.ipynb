from selenium import webdriver
from selenium.webdriver.chrome.service import Service
from webdriver_manager.chrome import ChromeDriverManager


driver = webdriver.Chrome(service=Service(ChromeDriverManager().install()))


driver.get("https://www.google.com")


from selenium import webdriver



driver = webdriver.Chrome()     # Selenium Manager fetches the right driver
driver.get("https://www.google.com")
print("Chrome opened")
driver.quit()


driver = webdriver.Chrome()     # Selenium Manager fetches the right driver
driver.get("https://www.google.com")
print("✅ Chrome opened")
driver.quit()



import requests
from bs4 import BeautifulSoup


url = "https://en.wikipedia.org/wiki/Timeline_of_the_20th_century"
response = requests.get(url)
soup = BeautifulSoup(response.text, "html.parser")


paragraphs = [p.get_text() for p in soup.find_all("p")]


with open("20th_century_events.txt", "w", encoding="utf-8") as f:
    for p in paragraphs:
        f.write(p + "\n")


print("✅ Saved 20th_century_events.txt")



